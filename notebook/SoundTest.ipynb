{
 "cells": [
  {
   "cell_type": "code",
   "execution_count": null,
   "id": "wound-foundation",
   "metadata": {},
   "outputs": [],
   "source": [
    "from manim import *\n",
    "\n",
    "config.media_width = \"75%\"\n",
    "config.verbosity = \"WARNING\""
   ]
  },
  {
   "cell_type": "code",
   "execution_count": null,
   "id": "82171f36",
   "metadata": {},
   "outputs": [],
   "source": [
    "%%manim -qm -v WARNING Klik\n",
    "\n",
    "class Klik(Scene):\n",
    "    def construct(self):\n",
    "        dot1 = Dot(color = RED).shift(2 * LEFT)\n",
    "        dot2 = Dot(color = BLUE).shift(2 * RIGHT)\n",
    "\n",
    "        self.add(dot1,dot2)\n",
    "        self.wait()\n",
    "        self.play(dot1.animate.move_to(dot2))\n",
    "        self.wait()\n",
    "        self.add_sound(\"tick.mp3\")\n",
    "        self.wait()"
   ]
  }
 ],
 "metadata": {
  "kernelspec": {
   "display_name": "Python 3 (ipykernel)",
   "language": "python",
   "name": "python3"
  },
  "language_info": {
   "codemirror_mode": {
    "name": "ipython",
    "version": 3
   },
   "file_extension": ".py",
   "mimetype": "text/x-python",
   "name": "python",
   "nbconvert_exporter": "python",
   "pygments_lexer": "ipython3",
   "version": "3.8.16"
  }
 },
 "nbformat": 4,
 "nbformat_minor": 5
}
